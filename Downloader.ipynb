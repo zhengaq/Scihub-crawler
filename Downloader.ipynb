{
 "cells": [
  {
   "cell_type": "markdown",
   "metadata": {},
   "source": [
    "## import necessary packages"
   ]
  },
  {
   "cell_type": "code",
   "execution_count": 1,
   "metadata": {},
   "outputs": [],
   "source": [
    "from selenium import webdriver\n",
    "\n",
    "import json\n",
    "import re\n",
    "import time\n",
    "import requests\n",
    "import codecs\n",
    "import unicodedata"
   ]
  },
  {
   "cell_type": "markdown",
   "metadata": {},
   "source": [
    "## Load download targets\n",
    "Expect format will be `<authors>. <title>. <year>. <etc>`, where `<authors>` include a comma separated list of authors and `<etc>` may contain information like `doi: <doi>`, `PMID: <pmid>`, or `PMCID: <pmcid>`. "
   ]
  },
  {
   "cell_type": "code",
   "execution_count": 3,
   "metadata": {},
   "outputs": [],
   "source": [
    "with codecs.open('downloaded.csv', 'r', encoding='unicode_escape') as fin:\n",
    "    lines = fin.readlines()"
   ]
  },
  {
   "cell_type": "markdown",
   "metadata": {},
   "source": [
    "## Prepare downloading \n",
    "Downloading destination can be customized by changing the value of `path`."
   ]
  },
  {
   "cell_type": "code",
   "execution_count": 4,
   "metadata": {},
   "outputs": [],
   "source": [
    "path = './'\n",
    "\n",
    "downloaded_files = list()\n",
    "failed_files = list()\n",
    "current_index = 1"
   ]
  },
  {
   "cell_type": "markdown",
   "metadata": {},
   "source": [
    "## Start a Chrome webdriver"
   ]
  },
  {
   "cell_type": "code",
   "execution_count": 10,
   "metadata": {},
   "outputs": [],
   "source": [
    "session = webdriver.Chrome()"
   ]
  },
  {
   "cell_type": "markdown",
   "metadata": {},
   "source": [
    "## Start Downloading "
   ]
  },
  {
   "cell_type": "code",
   "execution_count": 12,
   "metadata": {},
   "outputs": [
    {
     "name": "stdout",
     "output_type": "stream",
     "text": [
      "Total: 2597\n",
      "RETRIEVING Aaltonen S, Ortega-Alonso A, Kujala UM, Kaprio J. A longitudinal study on genetic and environmental influences on leisure time physical activity in the Finnish Twin Cohort. Twin Res Hum Genet. 2010 Oct;13(5):475-81. doi: 10.1375/twin.13.5.475. PubMed PMID: 20874470....\n",
      "TRYING title: A longitudinal study on genetic and environmental influences on leisure time physical activity in the Finnish Twin Cohort...\n",
      "SUCCEED (2 / 2597)!\n",
      "RETRIEVING Abdellaoui A, de Moor MH, Geels LM, van Beek JH, Willemsen G, Boomsma DI. Thought problems from adolescence to adulthood: measurement invariance and longitudinal heritability. Behav Genet. 2012 Jan;42(1):19-29. doi: 10.1007/s10519-011-9478-x. Epub 2011 Jun 18. PubMed PMID: 21688041; PubMed Central PMCID: PMC3253273....\n",
      "TRYING title: Thought problems from adolescence to adulthood: measurement invariance and longitudinal heritability...\n",
      "SUCCEED (3 / 2597)!\n"
     ]
    },
    {
     "ename": "KeyboardInterrupt",
     "evalue": "",
     "output_type": "error",
     "traceback": [
      "\u001b[0;31m---------------------------------------------------------------------------\u001b[0m",
      "\u001b[0;31mKeyboardInterrupt\u001b[0m                         Traceback (most recent call last)",
      "\u001b[0;32m<ipython-input-12-cef5c0628170>\u001b[0m in \u001b[0;36m<module>\u001b[0;34m\u001b[0m\n\u001b[1;32m     52\u001b[0m         \u001b[0mjson\u001b[0m\u001b[0;34m.\u001b[0m\u001b[0mdump\u001b[0m\u001b[0;34m(\u001b[0m\u001b[0;34m{\u001b[0m\u001b[0;34m'downloaded_files'\u001b[0m\u001b[0;34m:\u001b[0m \u001b[0mdownloaded_files\u001b[0m\u001b[0;34m,\u001b[0m \u001b[0;34m'failed_files'\u001b[0m\u001b[0;34m:\u001b[0m \u001b[0mfailed_files\u001b[0m\u001b[0;34m,\u001b[0m \u001b[0;34m'current_index'\u001b[0m\u001b[0;34m:\u001b[0m \u001b[0mcurrent_index\u001b[0m\u001b[0;34m}\u001b[0m\u001b[0;34m,\u001b[0m \u001b[0mfout\u001b[0m\u001b[0;34m)\u001b[0m\u001b[0;34m\u001b[0m\u001b[0;34m\u001b[0m\u001b[0m\n\u001b[1;32m     53\u001b[0m \u001b[0;34m\u001b[0m\u001b[0m\n\u001b[0;32m---> 54\u001b[0;31m     \u001b[0mtime\u001b[0m\u001b[0;34m.\u001b[0m\u001b[0msleep\u001b[0m\u001b[0;34m(\u001b[0m\u001b[0;36m6\u001b[0m\u001b[0;34m)\u001b[0m\u001b[0;34m\u001b[0m\u001b[0;34m\u001b[0m\u001b[0m\n\u001b[0m",
      "\u001b[0;31mKeyboardInterrupt\u001b[0m: "
     ]
    }
   ],
   "source": [
    "print('Total: {}'.format(len(lines)))\n",
    "\n",
    "for ori_line in lines:\n",
    "    \n",
    "    line = unicodedata.normalize('NFKD', ori_line.strip())\n",
    "    if not (line[0].isdigit() or line[0].isalpha()):\n",
    "        line = line[1:]\n",
    "    if not (line[-1].isdigit() or line[-1].isalpha()):\n",
    "        line = line[:-1]\n",
    "    succeeded = False\n",
    "    \n",
    "    ll = line.lower().strip()\n",
    "    querys = ['title: '+ line.split('.')[1].strip()]\n",
    "    pmids = re.findall(r\"pmid: [^ ]+\", ll)\n",
    "    pmcids = re.findall(r\"pmcid: [^ ]+\", ll)\n",
    "    dois = re.findall(r\"doi: [^ ]+\", ll)\n",
    "    ids = querys + pmids + pmcids + dois\n",
    "\n",
    "    print('RETRIEVING {}...'.format(line))\n",
    "    for ori_query in ids:\n",
    "        if not succeeded:\n",
    "            try: \n",
    "                time.sleep(2)\n",
    "                print('TRYING {}...'.format(ori_query)) \n",
    "                query = ' '.join(ori_query.split(' ')[1:])\n",
    "                query = query[:-1] + (query[-1] if (query[-1].isdigit() or query[-1].isalpha()) else '')\n",
    "                session.get('https://sci-hub.tw/')\n",
    "                search = session.find_element_by_name(\"request\")\n",
    "                search.send_keys(query)\n",
    "                session.implicitly_wait(1)\n",
    "                session.find_element_by_id(\"open\").click()\n",
    "                link = session.find_element_by_id(\"buttons\")\n",
    "                link = link.get_attribute(\"innerHTML\")\n",
    "                link = link.split('location.href=\\'')[1]\n",
    "                link = link.split(\"\\'\")[0]\n",
    "                if link.startswith('//'):\n",
    "                    link = 'https:' + link\n",
    "                myfile = requests.get(link, allow_redirects=True)\n",
    "                author = line.split(',')[0].replace(' ', '_')\n",
    "                if '.' in author:\n",
    "                    author = author.split('.')[0]\n",
    "                year = next( (x for x in line.split(' ') if x.isdigit()), 'unk')\n",
    "                with open('{}/{}-{}-{}.pdf'.format(path, current_index, author, year), 'wb') as fout:\n",
    "                    fout.write(myfile.content)\n",
    "                downloaded_files.append(ori_line)\n",
    "                current_index += 1\n",
    "                print('SUCCEED ({} / {})!'.format(len(downloaded_files), len(lines)))\n",
    "                succeeded = True\n",
    "            except Exception as inst:\n",
    "                print(str(inst).strip())\n",
    "\n",
    "    if not succeeded:\n",
    "        failed_files.append(ori_line)\n",
    "        print('FAILED ({} / {})!'.format(len(failed_files), len(lines)))\n",
    "    with open('{}/state.json'.format(path), 'w') as fout:\n",
    "        json.dump({'downloaded_files': downloaded_files, 'failed_files': failed_files, 'current_index': current_index}, fout)\n",
    "    \n",
    "    time.sleep(6)"
   ]
  },
  {
   "cell_type": "code",
   "execution_count": 216,
   "metadata": {},
   "outputs": [],
   "source": [
    "with open('/Users/ll2/scihub_pdfs/downloaded.csv', 'w') as fout:\n",
    "    fout.write('Title\\n')\n",
    "    for line in downloaded_files:\n",
    "        fout.write('\"' + line + '\"\\n')\n",
    "\n",
    "with open('/Users/ll2/scihub_pdfs/failed.csv', 'w') as fout:\n",
    "    fout.write('Title\\n')\n",
    "    for line in failed_files:\n",
    "        fout.write('\"' + line + '\"\\n')\n"
   ]
  },
  {
   "cell_type": "code",
   "execution_count": null,
   "metadata": {},
   "outputs": [],
   "source": []
  },
  {
   "cell_type": "code",
   "execution_count": null,
   "metadata": {},
   "outputs": [],
   "source": []
  },
  {
   "cell_type": "code",
   "execution_count": null,
   "metadata": {},
   "outputs": [],
   "source": []
  },
  {
   "cell_type": "code",
   "execution_count": null,
   "metadata": {},
   "outputs": [],
   "source": []
  }
 ],
 "metadata": {
  "kernelspec": {
   "display_name": "Python 3",
   "language": "python",
   "name": "python3"
  },
  "language_info": {
   "codemirror_mode": {
    "name": "ipython",
    "version": 3
   },
   "file_extension": ".py",
   "mimetype": "text/x-python",
   "name": "python",
   "nbconvert_exporter": "python",
   "pygments_lexer": "ipython3",
   "version": "3.7.6"
  }
 },
 "nbformat": 4,
 "nbformat_minor": 2
}
